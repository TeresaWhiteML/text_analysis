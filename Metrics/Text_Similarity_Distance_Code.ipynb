{
  "nbformat": 4,
  "nbformat_minor": 0,
  "metadata": {
    "colab": {
      "provenance": []
    },
    "kernelspec": {
      "name": "python3",
      "display_name": "Python 3"
    },
    "language_info": {
      "name": "python"
    }
  },
  "cells": [
    {
      "cell_type": "markdown",
      "source": [
        "# **Metrics to Calculate Text Similarity and Distance Using Python**"
      ],
      "metadata": {
        "id": "WlDROnWWvv5H"
      }
    },
    {
      "cell_type": "markdown",
      "source": [
        "## Exploring some methods"
      ],
      "metadata": {
        "id": "Pv97wZcD0oW7"
      }
    },
    {
      "cell_type": "markdown",
      "source": [
        "### **Cosine similarity**"
      ],
      "metadata": {
        "id": "5YIB45Kh1K3n"
      }
    },
    {
      "cell_type": "markdown",
      "source": [
        "Calculate Cosine similarity between two arrays:"
      ],
      "metadata": {
        "id": "D9E8B7k05Ts0"
      }
    },
    {
      "cell_type": "code",
      "source": [
        "#Import libraries\n",
        "import numpy as np\n",
        "from numpy import dot\n",
        "from numpy.linalg import norm"
      ],
      "metadata": {
        "id": "EB_g72-43hMi"
      },
      "execution_count": null,
      "outputs": []
    },
    {
      "cell_type": "code",
      "source": [
        "#Define two arrays\n",
        "#Arrays needs to be same length\n",
        "doc1 = [2,4,8,10,12,14,16,18,20,22] \n",
        "doc2 = [1,3,5,7,8,9,10,13,15,17]"
      ],
      "metadata": {
        "id": "ofbd3gcj44rs"
      },
      "execution_count": null,
      "outputs": []
    },
    {
      "cell_type": "code",
      "source": [
        "#Define function to calculate the Cosine similarity\n",
        "def cosine_sim(a, b):\n",
        "  cosine_sim = dot(a, b)/(norm(a)*norm(b))\n",
        "  \n",
        "  return cosine_sim"
      ],
      "metadata": {
        "id": "OGovMKAu6Cyo"
      },
      "execution_count": null,
      "outputs": []
    },
    {
      "cell_type": "code",
      "source": [
        "#Display the cosine similarity\n",
        "cosine_similarity = cosine_sim(doc1, doc2)\n",
        "print(\"The Cosine similarity between the two arrays is \", cosine_similarity)"
      ],
      "metadata": {
        "colab": {
          "base_uri": "https://localhost:8080/"
        },
        "id": "Sk4R9cb97KHG",
        "outputId": "30fcc596-acd5-4865-9098-5b8253bdc767"
      },
      "execution_count": null,
      "outputs": [
        {
          "output_type": "stream",
          "name": "stdout",
          "text": [
            "The Cosine similarity between the two arrays is  0.9968985473961681\n"
          ]
        }
      ]
    },
    {
      "cell_type": "markdown",
      "source": [
        "### **Cosine Distance**"
      ],
      "metadata": {
        "id": "zuHN4IYZq4Rx"
      }
    },
    {
      "cell_type": "code",
      "source": [
        "#Define function cosine_dist: cosine distance = 1 - cosine similarity\n",
        "def cosine_dist(cosine_similarity):\n",
        "  cosine_dist = 1 - cosine_similarity\n",
        "\n",
        "  return cosine_dist"
      ],
      "metadata": {
        "id": "y2aqzE9m3l-L"
      },
      "execution_count": null,
      "outputs": []
    },
    {
      "cell_type": "code",
      "source": [
        "#Display cosine distance\n",
        "cosine_distance = cosine_dist(cosine_similarity)\n",
        "print(\"The Cosine distance between the two arrays is \", cosine_distance)"
      ],
      "metadata": {
        "colab": {
          "base_uri": "https://localhost:8080/"
        },
        "id": "tuc4Z9ev-Qc6",
        "outputId": "73a7a075-8fc0-4fc8-ee9d-9c3a87687f88"
      },
      "execution_count": null,
      "outputs": [
        {
          "output_type": "stream",
          "name": "stdout",
          "text": [
            "The Cosine distance between the two arrays is  0.003101452603831878\n"
          ]
        }
      ]
    },
    {
      "cell_type": "markdown",
      "source": [
        "### **Jaccard Similarity**"
      ],
      "metadata": {
        "id": "yH6AmySibn3y"
      }
    },
    {
      "cell_type": "code",
      "source": [
        "#Import libraries\n",
        "import numpy as np"
      ],
      "metadata": {
        "id": "YP5PqHUj3maj"
      },
      "execution_count": null,
      "outputs": []
    },
    {
      "cell_type": "code",
      "source": [
        "#Define two documents\n",
        "doc1 = ['contract', 'terms', 'evolve', 'in', 'response', 'to', 'new', 'laws'] \n",
        "doc2 = ['contract', 'terms', 'evolve', 'in', 'response', 'to', 'legal', 'interpretations'] "
      ],
      "metadata": {
        "id": "-ybIn9qzAweq"
      },
      "execution_count": null,
      "outputs": []
    },
    {
      "cell_type": "code",
      "source": [
        "#Define function to calculate the Jaccard similarity\n",
        "#jaccard_sim = length(intersection_set)/length(union_set)\n",
        "def jaccard_sim(doc1, doc2):\n",
        "  #Find intersection and union of the observations\n",
        "  intersection_set = list(set(doc1).intersection(doc2))\n",
        "  union_set = list(set(doc1).union(doc2))\n",
        "\n",
        "  #Calculate Jaccard similarity\n",
        "  jaccard_sim= len(intersection_set)/len(union_set)\n",
        "\n",
        "  return float(jaccard_sim)"
      ],
      "metadata": {
        "id": "7Px_RQySAwj2"
      },
      "execution_count": null,
      "outputs": []
    },
    {
      "cell_type": "code",
      "source": [
        "#Display the jaccard similarity\n",
        "jaccard_similarity = jaccard_sim(doc1, doc2)\n",
        "\n",
        "print(\"The Jaccard similarity between the two documents is \", jaccard_similarity)"
      ],
      "metadata": {
        "colab": {
          "base_uri": "https://localhost:8080/"
        },
        "id": "SwlZUcUeEAFx",
        "outputId": "19500bd4-d329-453e-9cf5-2af301010296"
      },
      "execution_count": null,
      "outputs": [
        {
          "output_type": "stream",
          "name": "stdout",
          "text": [
            "The Jaccard similarity between the two documents is  0.6\n"
          ]
        }
      ]
    },
    {
      "cell_type": "markdown",
      "source": [
        "### **Jaccard Distance**"
      ],
      "metadata": {
        "id": "8nzF5KORgls2"
      }
    },
    {
      "cell_type": "code",
      "source": [
        "#Define function cosine_dist: cosine distance = 1 - cosine similarity\n",
        "def jaccard_dist(jaccard_similarity):\n",
        "  jaccard_dist = 1 - jaccard_similarity\n",
        "\n",
        "  return jaccard_dist"
      ],
      "metadata": {
        "id": "t5ba6kC_3m1q"
      },
      "execution_count": null,
      "outputs": []
    },
    {
      "cell_type": "code",
      "source": [
        "#Display jaccard distance\n",
        "jaccard_distance = jaccard_dist(jaccard_similarity)\n",
        "print(\"The Jaccard distance between the two documents is \", jaccard_distance)"
      ],
      "metadata": {
        "colab": {
          "base_uri": "https://localhost:8080/"
        },
        "id": "20FXvTvjHcdd",
        "outputId": "1210aebf-c056-4e7d-c27f-05c6e47c9e88"
      },
      "execution_count": null,
      "outputs": [
        {
          "output_type": "stream",
          "name": "stdout",
          "text": [
            "The Jaccard distance between the two documents is  0.4\n"
          ]
        }
      ]
    },
    {
      "cell_type": "markdown",
      "source": [
        "### **Euclidean Distance**"
      ],
      "metadata": {
        "id": "Y9knYGochYGj"
      }
    },
    {
      "cell_type": "code",
      "source": [
        "#Import libraries\n",
        "import numpy as np\n",
        "from numpy.linalg import norm"
      ],
      "metadata": {
        "id": "833bdtBR3nWL"
      },
      "execution_count": null,
      "outputs": []
    },
    {
      "cell_type": "code",
      "source": [
        "#Define two vectors\n",
        "#Arrays needs to be same length\n",
        "doc1 = np.array([2,4,8,10,12,14,16,18,20,22]) \n",
        "doc2 = np.array([1,3,5,7,8,9,10,13,15,17])"
      ],
      "metadata": {
        "id": "nRip3eq7IOkb"
      },
      "execution_count": null,
      "outputs": []
    },
    {
      "cell_type": "code",
      "source": [
        "#Calculate Euclidean distance between two vectors\n",
        "def euclidean_dist(doc1, doc2):\n",
        "  euclidean_dist = norm(doc1 - doc2)\n",
        "\n",
        "  return euclidean_dist"
      ],
      "metadata": {
        "id": "qAhsxd2_IW3R"
      },
      "execution_count": null,
      "outputs": []
    },
    {
      "cell_type": "code",
      "source": [
        "#Display the Euclidean distance\n",
        "euclidean_distance = euclidean_dist(doc1, doc2)\n",
        "print(\"The Euclidean distance between the two vectors is \", euclidean_distance)"
      ],
      "metadata": {
        "colab": {
          "base_uri": "https://localhost:8080/"
        },
        "id": "dQznp7EDIv-e",
        "outputId": "3afddd7e-42a2-4d7f-9c9a-b4f175e4283c"
      },
      "execution_count": null,
      "outputs": [
        {
          "output_type": "stream",
          "name": "stdout",
          "text": [
            "The Euclidean distance between the two vectors is  13.114877048604\n"
          ]
        }
      ]
    },
    {
      "cell_type": "markdown",
      "source": [
        "### **Manhattan Distance**"
      ],
      "metadata": {
        "id": "uhMz122lgl7e"
      }
    },
    {
      "cell_type": "code",
      "source": [
        "#Import libraries\n",
        "import numpy as np\n",
        "from math import sqrt"
      ],
      "metadata": {
        "id": "FU5Jwl9p3nwT"
      },
      "execution_count": null,
      "outputs": []
    },
    {
      "cell_type": "code",
      "source": [
        "#Define two vectors\n",
        "#Arrays needs to be same length\n",
        "doc1 = np.array([2,4,8,10,12,14,16,18,20,22]) \n",
        "doc2 = np.array([1,3,5,7,8,9,10,13,15,17])"
      ],
      "metadata": {
        "id": "tkZehDA1Jnr0"
      },
      "execution_count": null,
      "outputs": []
    },
    {
      "cell_type": "code",
      "source": [
        "#Calculate Manhattan distance between two vectors\n",
        "def manhattan_dist(doc1, doc2):\n",
        "  #Initialization\n",
        "  manhattan_dist = 0\n",
        "  for i, j in zip(doc1, doc2):\n",
        "    manhattan_dist += abs(i - j)\n",
        "\n",
        "  return manhattan_dist"
      ],
      "metadata": {
        "id": "oX7IBh24JqrN"
      },
      "execution_count": null,
      "outputs": []
    },
    {
      "cell_type": "code",
      "source": [
        "#Display the Manhattan distance\n",
        "manhattan_distance = manhattan_dist(doc1, doc2)\n",
        "print(\"The Manhattan distance between the two vectors is \", manhattan_distance)"
      ],
      "metadata": {
        "colab": {
          "base_uri": "https://localhost:8080/"
        },
        "id": "5i19BJK1KQfd",
        "outputId": "96599947-ec71-45cb-c892-bb22794895b8"
      },
      "execution_count": null,
      "outputs": [
        {
          "output_type": "stream",
          "name": "stdout",
          "text": [
            "The Manhattan distance between the two vectors is  38\n"
          ]
        }
      ]
    }
  ]
}