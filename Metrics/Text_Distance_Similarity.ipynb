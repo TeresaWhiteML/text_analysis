{
  "nbformat": 4,
  "nbformat_minor": 0,
  "metadata": {
    "colab": {
      "provenance": []
    },
    "kernelspec": {
      "name": "python3",
      "display_name": "Python 3"
    },
    "language_info": {
      "name": "python"
    }
  },
  "cells": [
    {
      "cell_type": "markdown",
      "source": [
        "# **Metrics to Calculate Text Similarity and Distance**"
      ],
      "metadata": {
        "id": "WlDROnWWvv5H"
      }
    },
    {
      "cell_type": "markdown",
      "source": [
        "## Similarity vs Distance"
      ],
      "metadata": {
        "id": "Zxr8f8U3zvW-"
      }
    },
    {
      "cell_type": "markdown",
      "source": [
        "\n",
        "*   **Similarity** measures the differences among various types of data\n",
        "*   **Distance** measures the length of two objects\n",
        "*   **Distance** is the **opposite** of **similarity**\n",
        "\n"
      ],
      "metadata": {
        "id": "ir3NQsLjwDWr"
      }
    },
    {
      "cell_type": "markdown",
      "source": [
        "## Comments about Similarity \n"
      ],
      "metadata": {
        "id": "Wa1scfYKwx6Q"
      }
    },
    {
      "cell_type": "markdown",
      "source": [
        "* To identify how close two documents are, we need to look, in general, for both **lexical similarity** and **semantic similarity**.\n",
        "    *  **Lexical similarity:** We focus on finding the similar word (exact overlap).\n",
        "    * **Semantic similarity:** We focus on the word meaning (focus on phrase).\n",
        "\n",
        "* We also need to see how sensitive to variation the texts are by checking the following:\n",
        "    * Differences in word order\n",
        "    * Differences in meaning"
      ],
      "metadata": {
        "id": "fiseHeXf037O"
      }
    },
    {
      "cell_type": "markdown",
      "source": [
        "## Exploring some methods"
      ],
      "metadata": {
        "id": "Pv97wZcD0oW7"
      }
    },
    {
      "cell_type": "markdown",
      "source": [
        "### **Cosine similarity**"
      ],
      "metadata": {
        "id": "5YIB45Kh1K3n"
      }
    },
    {
      "cell_type": "markdown",
      "source": [
        "* **Dedinition:** It is a measurement that quantifies the similarity between two or more vectors/objects.\n",
        "\n",
        "* **Formula:**    cosine similarity = $\\frac{A*B}{||A||*||B||}$, \n",
        "where A and B are the vectors.\n",
        "\n",
        "\n",
        "* **Between two documents:**\n",
        "    * Convert the words within the document into a vector form\n",
        "    * Having this vector representation of the document allows us to use the cosine similarity formula to the quantification of similarity\n",
        "* **Benchmark:** \n",
        "    * **1** represents that the documents are exactly alike\n",
        "    * **0** represents that the documents are not similar \n",
        "\n"
      ],
      "metadata": {
        "id": "5g_TsF2S1sR7"
      }
    },
    {
      "cell_type": "markdown",
      "source": [
        "### **Cosine Distance**"
      ],
      "metadata": {
        "id": "zuHN4IYZq4Rx"
      }
    },
    {
      "cell_type": "markdown",
      "source": [
        "* It is also called dissimilarity or cosine distance.\n",
        "* Formula:\n",
        "  $$\\text{cosine distance} = 1 - \\text{cosine similarity}$$"
      ],
      "metadata": {
        "id": "iORjPYd4rDGr"
      }
    },
    {
      "cell_type": "markdown",
      "source": [
        "### **Jaccard Similarity**"
      ],
      "metadata": {
        "id": "yH6AmySibn3y"
      }
    },
    {
      "cell_type": "markdown",
      "source": [
        "* **Dedinition:** It is a measurement that quantifies the similarity between two sets od data.\n",
        "\n",
        "* **Formula:**    Jaccard similarity = $\\frac{|A \\cap B|}{|A \\cup B|}$, \n",
        "where A and B are the sets.\n",
        "\n",
        "*In words:* \n",
        "\n",
        "$|A \\cap B|$ represents the number of observations in both sets and\n",
        "\n",
        "$|A \\cup B|$ represents the number of observations in either set.\n",
        "\n",
        "\n",
        "* **Benchmark:** \n",
        "    * **1** represents that the documents are identical\n",
        "    * **0** represents that the documents don't share any values \n",
        "\n"
      ],
      "metadata": {
        "id": "7xOtSRgmcEIX"
      }
    },
    {
      "cell_type": "markdown",
      "source": [
        "### **Jaccard Distance**"
      ],
      "metadata": {
        "id": "8nzF5KORgls2"
      }
    },
    {
      "cell_type": "markdown",
      "source": [
        "* It is also called dissimilarity or cosine distance.\n",
        "* Formula:\n",
        "  $$\\text{Jaccard distance} = 1 - \\text{Jaccard similarity}$$"
      ],
      "metadata": {
        "id": "m3ETYcfJhCui"
      }
    },
    {
      "cell_type": "markdown",
      "source": [
        "### **Euclidean Distance**"
      ],
      "metadata": {
        "id": "Y9knYGochYGj"
      }
    },
    {
      "cell_type": "markdown",
      "source": [
        "* **Dedinition:** It is the distance between two points.\n",
        "\n",
        "* **Formula:**    Euclidean Distance = $d(x,y) = \\sqrt{\\sum^{n}_{k=1} (x_k - y_k)^2}$, \n",
        "\n",
        "where $x$ and $y$ are the points ($x_k$ and $y_k$ are the kth component of $x$ and $y$ respectively) and $n$ is the number of dimensions.\n",
        "\n",
        "\n",
        "* **Between two documents:**\n",
        "    * Convert the words within the document into a vector form\n",
        "    * Having this vector representation of the document allows us to use the Euclidean distance formula \n"
      ],
      "metadata": {
        "id": "pSM5dsgca2A3"
      }
    },
    {
      "cell_type": "markdown",
      "source": [
        "### **Manhattan Distance**"
      ],
      "metadata": {
        "id": "uhMz122lgl7e"
      }
    },
    {
      "cell_type": "markdown",
      "source": [
        "* **Dedinition:** It is the distance between two points.\n",
        "\n",
        "* **Formula:**    Manhattan Distance = $\\mid x_2 - x_1 \\mid + \\mid y_2 - y_1 \\mid$, \n",
        "\n",
        "where $x =(x_1 , x_2)$ and $y = (y_1 , y_2)$ are the points.\n",
        "\n",
        "* **Between two documents:**\n",
        "    * Convert the words within the document into a vector form\n",
        "    * Having this vector representation of the document allows us to use the Euclidean distance formula \n"
      ],
      "metadata": {
        "id": "BB0cq_54chSl"
      }
    }
  ]
}